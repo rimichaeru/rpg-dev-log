{
 "cells": [
  {
   "cell_type": "code",
   "execution_count": 1,
   "id": "e237d918-ff19-4115-9a03-f3d452ebc8d5",
   "metadata": {},
   "outputs": [],
   "source": [
    "import os\n",
    "import json"
   ]
  },
  {
   "cell_type": "code",
   "execution_count": 2,
   "id": "cdcded44-3bc8-46dd-a659-bdc653c4d4dc",
   "metadata": {},
   "outputs": [],
   "source": [
    "# f = open(\"../src/assets/posts.json\")\n",
    "# json.load(f)\n",
    "# f.close()"
   ]
  },
  {
   "cell_type": "code",
   "execution_count": 3,
   "id": "72359c38-3074-4808-8afb-e81ed6fde694",
   "metadata": {},
   "outputs": [],
   "source": [
    "# # post \n",
    "# image = \"\"\n",
    "# heading = \"\"\n",
    "# date = \"\"\n",
    "# description = \"\"\n",
    "\n",
    "# postDict.append({\"image\": image, \"heading\": heading, \"date\": date, \"description\": description})"
   ]
  },
  {
   "cell_type": "code",
   "execution_count": null,
   "id": "b4d9d031-5e61-414f-8725-4b86a4183c31",
   "metadata": {},
   "outputs": [],
   "source": []
  },
  {
   "cell_type": "code",
   "execution_count": 4,
   "id": "3f023668-ff8b-4ddd-b118-60fd18bfd964",
   "metadata": {},
   "outputs": [],
   "source": [
    "postDict = []"
   ]
  },
  {
   "cell_type": "code",
   "execution_count": 5,
   "id": "eed25855-f987-4306-aa88-c6d0b5e7e5f5",
   "metadata": {},
   "outputs": [],
   "source": [
    "# post 1\n",
    "image = \"1-before-beginning.png\"\n",
    "heading = \"Before the Beginning\"\n",
    "date = \"Some Years Ago\"\n",
    "description = \"Around 2015 I wanted to play a tabletop game like D&D; I read through multiple editions but all of them seemed quite clunky, they also seemed strangely restrictive, so having never actually played D&D or anything similar I decided to develop a tabletop game of my own. //I made classes, creatures, game and combat mechanics, character sheets, set it in space, and wrote a brief lore. I wanted to play whilst being the DM, so I made sure a lot of the game and npc decisions were based off dice rolls - leaving everything up to RNGesus. //The game worked for the most part, but I only ever played half a session of it with three other people, and I still haven't played D&D to this day. But little did I know, that this budding RPG would eventually evolve into a more sophisticated and complex conception many years later.\"\n",
    "\n",
    "postDict.append({\"image\": image, \"heading\": heading, \"date\": date, \"description\": description})"
   ]
  },
  {
   "cell_type": "code",
   "execution_count": 6,
   "id": "c3af21e5-3a05-4abf-a855-67d1e8a5914b",
   "metadata": {},
   "outputs": [],
   "source": [
    "# post 2\n",
    "image = \"2-beginning.png\"\n",
    "heading = \"The Beginning\"\n",
    "date = \"End of 2020\"\n",
    "description = \"Gaming from around 2014 onwards left me quite starved. Even now, it's difficult to be excited or interested in a new game on the horizon - scummy publishers, false promises, all-too-effective marketing, over-casualising franchises, and so on, it all leaves me disappointed once the game has finally released. So, using newfound python skills which I trained up in the 2020 lockdown, I dreamt of a game I REALLY, REALLY wanted to play; it had the same giddy and rewarding feeling my tabletop game had, and so I was instantly reminded of it. //I dug up all of the assets and spreadsheets and dove into a coding frenzy. This initial series of posts is an understatement of what happened in those first few months.\"\n",
    "\n",
    "postDict.append({\"image\": image, \"heading\": heading, \"date\": date, \"description\": description})"
   ]
  },
  {
   "cell_type": "code",
   "execution_count": 7,
   "id": "1e9c5517-518f-46a1-be48-b2ec31121b8c",
   "metadata": {},
   "outputs": [],
   "source": [
    "# post 3\n",
    "image = \"3-curves.png\"\n",
    "heading = \"The Beginning - I love your DB & curves\"\n",
    "date = \"End of 2020 & Early 2021\"\n",
    "description = \"I developed the code and databases for numerous creatures, weapons, armours, and so on. Then I developed a solid combat system which takes into account buffs, debuffs, ongoing effects, etc. as well as visually represented damage, hit, magic, and other power curves for my own balancing.\"\n",
    "\n",
    "postDict.append({\"image\": image, \"heading\": heading, \"date\": date, \"description\": description})"
   ]
  },
  {
   "cell_type": "code",
   "execution_count": 8,
   "id": "95aa7ff9-7d52-424c-b83e-c44b37df3c29",
   "metadata": {},
   "outputs": [],
   "source": [
    "# post 4\n",
    "image = \"4-sprite-example.png\"\n",
    "heading = \"The Beginning - Getting Graphic /w Godot\"\n",
    "date = \"March 2021\"\n",
    "description = \"I hadn't planned on making a fully-fledged game, but then I found out about Godot. After some research and practice, I realised that it wasn't so far out to connect everything in a proper game engine and have at least basic rendering and sprites. I started making little pixel people (...I made slimes...) and test assets to practice. //Visually, the goal is something resembling Pokemon-meets-RuneScape, with a game loop similar to Oblivion-meets-Diablo, kind of. After a bit more practice, I realised that if I got really serious about this as an even longer-term side project, then I could make a very interesting game of quality that maybe even others could enjoy!\"\n",
    "\n",
    "postDict.append({\"image\": image, \"heading\": heading, \"date\": date, \"description\": description})"
   ]
  },
  {
   "cell_type": "code",
   "execution_count": 9,
   "id": "eb9f86d9-2ea4-4a80-99a1-75479cb15498",
   "metadata": {},
   "outputs": [],
   "source": [
    "# post 5\n",
    "image = \"5-devlog-begins.png\"\n",
    "heading = \"The End (of The Beginning)\"\n",
    "date = \"28 July 2021\"\n",
    "description = \"Active development updates will begin from now. I decided to make this dev log using my JS and React experience to document & share the game's journey - as it is a side project updates may not be too frequent, and although I may post about small but significant parts of progress within the project, I may also suddenly come out with a huge update post, so watch this space!\"\n",
    "\n",
    "postDict.append({\"image\": image, \"heading\": heading, \"date\": date, \"description\": description})"
   ]
  },
  {
   "cell_type": "code",
   "execution_count": 10,
   "id": "22d1d82e-576c-4b95-8bcc-83c27c2dd7b0",
   "metadata": {},
   "outputs": [],
   "source": [
    "# post 6\n",
    "image = \"6-state050.png\"\n",
    "heading = \"Current State - v0.5.0\"\n",
    "date = \"3 August 2021\"\n",
    "description = \"The game, which remains nameless for some reason, has a bunch of key features and is essentially in a pre-alpha state. The next series of posts will break down each major aspect into what is currently working, what's in progress, and potentially what's planned.\"\n",
    "\n",
    "postDict.append({\"image\": image, \"heading\": heading, \"date\": date, \"description\": description})"
   ]
  },
  {
   "cell_type": "code",
   "execution_count": 11,
   "id": "c8b2f7d6-2f05-468f-976d-a9f7344f41ac",
   "metadata": {},
   "outputs": [],
   "source": [
    "# post 7\n",
    "image = \"7-state050-enemies.png\"\n",
    "heading = \"Current State - v0.5.0 - Creatures and Enemies\"\n",
    "date = \"3 August 2021\"\n",
    "description = \"Enemies are in a great place; there are around 100 unique enemy profiles, each has its own weapons (or generates a weapons if it can hold one), as well as unique abilities. There are also species abilities and weapons if applicable. Everything mentioned generates correctly and seems to work in combat, although further testing is necessary. //As well as this enemies can decide to cast magic! In combat, the enemies potentially spawn in groups and have a working AI which decides what movement and actions they do! A few fun things; enemies can group buff, they can spawn with special elemental resistances (and 3 magnitudes for those resistances).\"\n",
    "\n",
    "postDict.append({\"image\": image, \"heading\": heading, \"date\": date, \"description\": description})"
   ]
  },
  {
   "cell_type": "code",
   "execution_count": 12,
   "id": "a34c6385-44ae-446e-afed-fe1546d31532",
   "metadata": {},
   "outputs": [],
   "source": [
    "# post 8\n",
    "image = \"8-graphics.png\"\n",
    "heading = \"Current State - v0.5.0 - Godot Engine and Graphics\"\n",
    "date = \"3 August 2021\"\n",
    "description = \"The code is almost ready for preliminary testing in Godot, although most graphical assets do not exist currently (I have designed and imported a general visual interface, shown in pic, elements and mastery areas have been omitted!). //The next stage will be to use placeholder graphics to at least simulate battles, effects, and walking around the map. All of this will happen later in production. Map tiles also need to be designed and created, which will be a challenge in itself as I must make sure the art style and theme resonates well with the game's setting!\"\n",
    "\n",
    "postDict.append({\"image\": image, \"heading\": heading, \"date\": date, \"description\": description})"
   ]
  },
  {
   "cell_type": "code",
   "execution_count": 13,
   "id": "f1a544a9-586e-4e05-9cc3-e863710c8ba1",
   "metadata": {},
   "outputs": [],
   "source": [
    "# post 9\n",
    "image = \"9-state050-pc.png\"\n",
    "heading = \"Current State - v0.5.0 - The Player Character\"\n",
    "date = \"3 August 2021\"\n",
    "description = \"Base classes (Warrior, Mage, Rogue, Marksman, Cleric) exist with basic level unlocks (actives and passives), although no skill tree exists currently. The unlocks need to be tested to make sure they work and apply during combat where necessary. //Character creation also already exists! It will be looking great once a proper creation interface is made within Godot. Saving and loading also works, but this also needs the interface for it to fully come alive.\"\n",
    "\n",
    "postDict.append({\"image\": image, \"heading\": heading, \"date\": date, \"description\": description})"
   ]
  },
  {
   "cell_type": "code",
   "execution_count": 14,
   "id": "5ccfd263-4d4a-4515-9a44-79b356211b86",
   "metadata": {},
   "outputs": [],
   "source": [
    "# post 10\n",
    "image = \"10-state050-elements.png\"\n",
    "heading = \"Current State - v0.5.0 - Other Interesting Aspects\"\n",
    "date = \"3 August 2021\"\n",
    "description = \"Elemental procs and effects exist, in fact, there are 10 of them, and they also work in combat (apart from one which uses a tricky delayed buff mechanism)! I'll give a free copy of the game upon release to the first person who could guess all 10, just tweet them at me, and I'll give clues down the line (think space-related). //Also, there are over 80 different materials and over 40 different weapon forms. Characters not only have magic master, but also mastery within an element. Characters can also specialise in different types of weapons, eg. bladed, 1-handed, etc.\"\n",
    "\n",
    "postDict.append({\"image\": image, \"heading\": heading, \"date\": date, \"description\": description})"
   ]
  },
  {
   "cell_type": "code",
   "execution_count": 15,
   "id": "33deed9e-4006-4e15-84b0-2be7f073d404",
   "metadata": {},
   "outputs": [],
   "source": [
    "# post 11\n",
    "image = \"11-state050-combat.png\"\n",
    "heading = \"Current State - v0.5.0 - Combat System\"\n",
    "date = \"3 August 2021\"\n",
    "description = \"The combat system is what I worked on just before the development of this log. I've been trying to get it to break, but it's holding up to the battering! The next stage would be to check the profiles of the creatures and enemies during each phase to make sure that buffs, debuffs, and general ongoing effects are working. //Interestingly, porting the game to the Godot Engine with basic sprites and visuals may actually aid this - I was thinking that a basic port would be the next step anyway. I will reflect on the current game's overview some more and think of what the next best steps are - I'm using a ticket board to keep track of everything I'm doing and everything that needs to be done, so let's see what happens - I'll update this log with any happenings!\"\n",
    "\n",
    "postDict.append({\"image\": image, \"heading\": heading, \"date\": date, \"description\": description})"
   ]
  },
  {
   "cell_type": "code",
   "execution_count": 16,
   "id": "08f9089e-0b5c-4629-aca8-a71c0df39976",
   "metadata": {},
   "outputs": [],
   "source": [
    "# post 12\n",
    "image = \"12-ability-cd.png\"\n",
    "heading = \"Enemy Cooldowns\"\n",
    "date = \"6 August 2021\"\n",
    "description = \"Since I hadn't added the cooldown logic yet, enemies were spamming certain powerful skills or even focused on super buffing themselves many turns in a row! They've now been correctly restricted!\"\n",
    "\n",
    "postDict.append({\"image\": image, \"heading\": heading, \"date\": date, \"description\": description})"
   ]
  },
  {
   "cell_type": "code",
   "execution_count": null,
   "id": "622067e1-6f36-4af9-a20d-e1f16e020129",
   "metadata": {},
   "outputs": [],
   "source": []
  },
  {
   "cell_type": "code",
   "execution_count": null,
   "id": "0a370de9-b714-4734-ac92-8f4058e35047",
   "metadata": {},
   "outputs": [],
   "source": []
  },
  {
   "cell_type": "code",
   "execution_count": null,
   "id": "c18ef5ae-570f-47d6-b677-9dce9f0abb60",
   "metadata": {},
   "outputs": [],
   "source": []
  },
  {
   "cell_type": "code",
   "execution_count": 17,
   "id": "998ecc67-2388-4eae-8301-1da138a8c821",
   "metadata": {},
   "outputs": [],
   "source": [
    "# import pandas as pd\n",
    "# jsonDict = pd.DataFrame(dictionary).to_json();\n",
    "jsonDict = json.dumps(postDict, indent=4)"
   ]
  },
  {
   "cell_type": "code",
   "execution_count": 18,
   "id": "68e5b4bb-a4e5-4057-94ad-fe7b52ae3322",
   "metadata": {},
   "outputs": [],
   "source": [
    "f = open(\"../src/assets/posts.json\", \"w\")\n",
    "f.truncate(0)\n",
    "f.write(jsonDict)\n",
    "f.close()"
   ]
  },
  {
   "cell_type": "code",
   "execution_count": null,
   "id": "13046dc1-9c5e-461f-9aba-9a9a72491cfa",
   "metadata": {},
   "outputs": [],
   "source": []
  }
 ],
 "metadata": {
  "kernelspec": {
   "display_name": "Python 3",
   "language": "python",
   "name": "python3"
  },
  "language_info": {
   "codemirror_mode": {
    "name": "ipython",
    "version": 3
   },
   "file_extension": ".py",
   "mimetype": "text/x-python",
   "name": "python",
   "nbconvert_exporter": "python",
   "pygments_lexer": "ipython3",
   "version": "3.8.3"
  }
 },
 "nbformat": 4,
 "nbformat_minor": 5
}
