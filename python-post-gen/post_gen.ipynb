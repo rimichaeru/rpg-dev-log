{
 "cells": [
  {
   "cell_type": "code",
   "execution_count": 5,
   "id": "e237d918-ff19-4115-9a03-f3d452ebc8d5",
   "metadata": {},
   "outputs": [],
   "source": [
    "import os\n",
    "import json"
   ]
  },
  {
   "cell_type": "code",
   "execution_count": 6,
   "id": "cdcded44-3bc8-46dd-a659-bdc653c4d4dc",
   "metadata": {},
   "outputs": [],
   "source": [
    "f = open(\"../src/assets/posts.json\")\n",
    "json.load(f)\n",
    "f.close()"
   ]
  },
  {
   "cell_type": "code",
   "execution_count": 10,
   "id": "72359c38-3074-4808-8afb-e81ed6fde694",
   "metadata": {},
   "outputs": [],
   "source": [
    "# post \n",
    "image = \"\"\n",
    "heading = \"\"\n",
    "date = \"\"\n",
    "description = \"\""
   ]
  },
  {
   "cell_type": "code",
   "execution_count": 12,
   "id": "eed25855-f987-4306-aa88-c6d0b5e7e5f5",
   "metadata": {},
   "outputs": [],
   "source": [
    "# post 1\n",
    "image = \"1-before-beginning.png\"\n",
    "heading = \"Before the Beginning\"\n",
    "date = \"Some Years Ago\"\n",
    "description = \"Around 2015 I wanted to play a tabletop game like D&D; I read through multiple editions but all of them seemed quite clunky, they also seemed strangely restrictive, so having never actually played D&D or anything similar I decided to develop a tabletop game of my own. I made classes, creatures, game and combat mechanics, character sheets, set it in space, and wrote a brief lore. I wanted to play whilst being the DM, so I made sure a lot of the game and npc decisions were based off dice rolls - leaving everything up to RNGesus. The game worked for the most part, but I only ever played half a session of it with three other people, and I still haven't played D&D to this day. But little did I know, that this budding RPG would eventually evolve into a more sophisticated and complex conception many years later.\""
   ]
  },
  {
   "cell_type": "code",
   "execution_count": 15,
   "id": "c3af21e5-3a05-4abf-a855-67d1e8a5914b",
   "metadata": {},
   "outputs": [],
   "source": [
    "# post 2\n",
    "image = \"2-beginning.png\"\n",
    "heading = \"The Beginning\"\n",
    "date = \"End of 2020\"\n",
    "description = \"Gaming from around 2014 onwards left me quite starved. Even now, it's difficult to be excited or interested in a new game on the horizon - scummy publishers, false promises, all-too-effective marketing, over-casualising franchises, and so on, it all leaves me disappointed once the game has finally released. So, using newfound python skills which I trained up in the 2020 lockdown, I dreamt of a game I REALLY, REALLY wanted to play; it had the same giddy and rewarding feeling my tabletop game had, and so I was instantly reminded of it. I dug up all of the assets and spreadsheets and dove into a coding frenzy. This initial series of posts is an understatement of what happened in those first few months.\""
   ]
  },
  {
   "cell_type": "code",
   "execution_count": 16,
   "id": "1e9c5517-518f-46a1-be48-b2ec31121b8c",
   "metadata": {},
   "outputs": [],
   "source": [
    "# post 3\n",
    "image = \"3-placeholder.png\"\n",
    "heading = \"The Beginning - I love your DB & curves\"\n",
    "date = \"End of 2020 & Early 2021\"\n",
    "description = \"I developed the code and databases for numerous creatures, weapons, armours, and so on. Then I developed a solid combat system which takes into account buffs, debuffs, ongoing effects, etc. as well as visually represented damage, hit, magic, and other power curves for my own balancing.\""
   ]
  },
  {
   "cell_type": "code",
   "execution_count": 17,
   "id": "95aa7ff9-7d52-424c-b83e-c44b37df3c29",
   "metadata": {},
   "outputs": [],
   "source": [
    "# post 4\n",
    "image = \"4-sprite-example.png\"\n",
    "heading = \"The Beginning - Getting Graphic /w Godot\"\n",
    "date = \"March 2021\"\n",
    "description = \"I hadn't planned on making a fully-fledged game, but then I found out about Godot. After some research and practice, I realised that it wasn't so far out to connect everything in a proper game engine and have at least basic rendering and sprites. I started making little pixel people (...I made slimes...) and test assets to practice. Visually, the goal is something resembling Pokemon-meets-RuneScape, with a game loop similar to Oblivion-meets-Diablo, kind of. After a bit more practice, I realised that if I got really serious about this as an even longer-term side project, then I could make a very interesting game of quality that maybe even others could enjoy!\""
   ]
  },
  {
   "cell_type": "code",
   "execution_count": null,
   "id": "eb9f86d9-2ea4-4a80-99a1-75479cb15498",
   "metadata": {},
   "outputs": [],
   "source": [
    "# post 5\n",
    "image = \"5-placeholder.png\"\n",
    "heading = \"The End (of The Beginning)\"\n",
    "date = \"28 July 2021\"\n",
    "description = \"Active development updates will begin from now. I decided to make this dev log using my JS and React experience to document & share the game's journey - as it is a side project updates may not be too frequent, and although I may post about small but significant parts of progress within the project, I may also suddenly come out with a huge update post, so watch this space!\""
   ]
  },
  {
   "cell_type": "code",
   "execution_count": null,
   "id": "22d1d82e-576c-4b95-8bcc-83c27c2dd7b0",
   "metadata": {},
   "outputs": [],
   "source": [
    "# post 6\n",
    "image = \"6-placeholder.png\"\n",
    "heading = \"Current State - v0.5.0\"\n",
    "date = \"3 August 2021\"\n",
    "description = \"The game, which remains nameless for some reason, has a bunch of key features and is essentially in a pre-alpha state. The next series of posts will break down each major aspect into what is currently working, what's in progress, and potentially what's planned.\""
   ]
  },
  {
   "cell_type": "code",
   "execution_count": null,
   "id": "c8b2f7d6-2f05-468f-976d-a9f7344f41ac",
   "metadata": {},
   "outputs": [],
   "source": []
  },
  {
   "cell_type": "code",
   "execution_count": null,
   "id": "3c667435-e961-40fe-9aa2-b038a02ca49a",
   "metadata": {},
   "outputs": [],
   "source": []
  },
  {
   "cell_type": "code",
   "execution_count": 13,
   "id": "998ecc67-2388-4eae-8301-1da138a8c821",
   "metadata": {},
   "outputs": [],
   "source": [
    "postDict = {\"image\": image, \"heading\": heading, \"date\": date, \"description\": description}\n",
    "\n",
    "# import pandas as pd\n",
    "# jsonDict = pd.DataFrame(dictionary).to_json();\n",
    "jsonDict = json.dumps(postDict, indent=4)"
   ]
  },
  {
   "cell_type": "code",
   "execution_count": 14,
   "id": "68e5b4bb-a4e5-4057-94ad-fe7b52ae3322",
   "metadata": {},
   "outputs": [],
   "source": [
    "f = open(\"../src/assets/posts.json\", \"a\")\n",
    "f.truncate(0)\n",
    "f.write(jsonDict)\n",
    "f.close()"
   ]
  },
  {
   "cell_type": "code",
   "execution_count": null,
   "id": "13046dc1-9c5e-461f-9aba-9a9a72491cfa",
   "metadata": {},
   "outputs": [],
   "source": []
  }
 ],
 "metadata": {
  "kernelspec": {
   "display_name": "Python 3",
   "language": "python",
   "name": "python3"
  },
  "language_info": {
   "codemirror_mode": {
    "name": "ipython",
    "version": 3
   },
   "file_extension": ".py",
   "mimetype": "text/x-python",
   "name": "python",
   "nbconvert_exporter": "python",
   "pygments_lexer": "ipython3",
   "version": "3.8.3"
  }
 },
 "nbformat": 4,
 "nbformat_minor": 5
}
